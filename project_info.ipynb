{
 "cells": [
  {
   "cell_type": "markdown",
   "id": "731f2732",
   "metadata": {},
   "source": [
    "# PROJECT: TREE ENSEMBLES\n",
    "## Classification methods\n",
    "## Adaboost + c4.5\n",
    "#### FORMULA\n",
    "K - steps of algorithm                         \n",
    "N - number of instances TAKEN RANDOMLY in the set          \n",
    "w(i+1) = w(i) * (ei / (ei + 1) )     \n",
    "ei = sum( w(i)*e(xj) )\n",
    "## Evaluation\n",
    "### Datasets\n",
    "#### HRV\n",
    "HRVFrame framework of Jovic and Bogunovic.    \n",
    "230 numerical features - from 125 patients       \n",
    "Each 20 seconds, 8843 instances obtained     \n",
    "Classify 9 types of patterns \n",
    "\n",
    "#### CHF\n",
    "Each 5 minutes, 237 records (total time: 1185), 3317 instances   \n",
    "Previous accuracy 72%.\n",
    "\n",
    "### Evaluation specifics\n",
    "SENSITIVITY = TP / (TP + FN)           \n",
    "SPECIFICITY = TN / ( TN + FP)\n",
    "\n",
    "TP - True positive\n",
    "TN - True negative\n",
    "FP - False positive\n",
    "FN - False negative\n",
    "\n",
    "#### Iterations AB\n",
    "Starting = 10; Till = 100; Step = 10      \n",
    "C for SVM: Started 0.01; Till = 2048 (nonlinear step)\n",
    "\n",
    "#### SVM\n",
    "#### *AB* \n",
    "40 ITER.    C4.5 pruning conf = 0.4\n",
    "#### *MB* \n",
    "40 ITER; 5 subcomittees; C4.5 pruning conf = 0.4\n",
    "#### *RF* \n",
    "100 trees; max. depth = 20;\n",
    "#### *RTF* \n",
    "30 ITER;  8 max and 8 min group members;\n",
    "\n",
    "#### *Arrythimia*\n",
    "SVM LIN. C = 1;       \n",
    "SVM SQ. C = 0.03;     \n",
    "SVM RAD. C = 5; y = 0.15;       \n",
    "\n",
    "#### *HRV*\n",
    "SVM LIN. C = 1;       \n",
    "SVM SQ. C = 0.03;     \n",
    "SVM RAD. C = 128; y = 0.01;      \n",
    "\n",
    "#### *CHF*\n",
    "SVM LIN. C = 10;       \n",
    "SVM SQ. C = 0.15;     \n",
    "SVM RAD. C = 512; y = 0.15;      "
   ]
  }
 ],
 "metadata": {
  "kernelspec": {
   "display_name": "Python 3 (ipykernel)",
   "language": "python",
   "name": "python3"
  },
  "language_info": {
   "codemirror_mode": {
    "name": "ipython",
    "version": 3
   },
   "file_extension": ".py",
   "mimetype": "text/x-python",
   "name": "python",
   "nbconvert_exporter": "python",
   "pygments_lexer": "ipython3",
   "version": "3.8.10"
  }
 },
 "nbformat": 4,
 "nbformat_minor": 5
}
