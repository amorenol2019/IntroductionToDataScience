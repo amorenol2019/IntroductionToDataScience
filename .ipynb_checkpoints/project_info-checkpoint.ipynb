{
 "cells": [
  {
   "cell_type": "markdown",
   "id": "731f2732",
   "metadata": {},
   "source": [
    "# PROJECT: TREE ENSEMBLES\n",
    "## Classification methods\n",
    "## Adaboost + c4.5\n",
    "#### FORMULA\n",
    "K - steps of algorithm                         \n",
    "N - number of instances TAKEN RANDOMLY in the set          \n",
    "w(i+1) = w(i) * (ei / (ei + 1) )     \n",
    "ei = sum( w(i)*e(xj) )\n",
    "\n",
    "### Evaluation specifics\n",
    "SENSITIVITY = TP / (TP + FN)           \n",
    "SPECIFICITY = TN / ( TN + FP)\n",
    "\n",
    "TP - True positive\n",
    "TN - True negative\n",
    "FP - False positive\n",
    "FN - False negative     "
   ]
  },
  {
   "cell_type": "code",
   "execution_count": null,
   "id": "335db4cd",
   "metadata": {},
   "outputs": [],
   "source": [
    "import time\n",
    "import pandas as pd\n",
    "import numpy as np\n",
    "from rotation_forest import RotationForestClassifier\n",
    "from sklearn.model_selection import train_test_split\n",
    "from sklearn.ensemble import AdaBoostClassifier\n",
    "from sklearn.preprocessing import LabelEncoder\n",
    "from sklearn.metrics import multilabel_confusion_matrix\n",
    "from sklearn.ensemble import RandomForestClassifier"
   ]
  },
  {
   "cell_type": "code",
   "execution_count": null,
   "id": "a34a31a3",
   "metadata": {},
   "outputs": [],
   "source": [
    "#We want to represent in a plot the sensitivity of AB, MB, RF, RTF, SVM LINEAR,\n",
    "#SVM SQUARED, SVM RADIAL and in another the specificity\n",
    "#-----CONSTANTS. AMOUNT OF EACH CLASS\n",
    "TOTAL = 8843\n",
    "PAC = 1065\n",
    "PACED = 318\n",
    "NSR= 4121\n",
    "PVC = 1466\n",
    "VBI = 375\n",
    "AFIB = 749\n",
    "VTR = 299\n",
    "ATR = 178\n",
    "ABI = 272\n",
    "\n",
    "\n",
    "Adaboost()\n",
    "RandomForest()\n",
    "RotationForest()"
   ]
  },
  {
   "cell_type": "code",
   "execution_count": null,
   "id": "c81c6a95",
   "metadata": {},
   "outputs": [],
   "source": [
    "def Adaboost():\n",
    "    first = time.time()\n",
    "    train_X, test_X, train_Y, test_Y = get_values_trained()\n",
    "    train_Y, test_Y = encode_x_y(train_Y, test_Y)\n",
    "    adaboost = AdaBoostClassifier(n_estimators=40, learning_rate = 0.4)\n",
    "    #-------FIT\n",
    "    adaboost.fit(train_X,train_Y)\n",
    "    pred_Y = adaboost.predict(test_X)\n",
    "\n",
    "    confusion = confusion_matrix(test_Y, pred_Y)\n",
    "    calculation_var(confusion, first) #PRINT SENSITIVITY, SPECIFICITY, TIME"
   ]
  },
  {
   "cell_type": "code",
   "execution_count": null,
   "id": "994a3a4b",
   "metadata": {},
   "outputs": [],
   "source": [
    "def RandomForest():\n",
    "    first = time.time()\n",
    "    train_X, test_X, train_Y, test_Y = get_values_trained()\n",
    "\n",
    "    rf = RandomForestClassifier(n_estimators=100, max_depth = 20)\n",
    "    rf.fit(train_X, train_Y)\n",
    "    pred_Y = rf.predict(test_X)\n",
    "\n",
    "    confusion = confusion_matrix(test_Y, pred_Y)\n",
    "    calculation_var(confusion, first) #PRINT SENSITIVITY, SPECIFICITY, TIME"
   ]
  },
  {
   "cell_type": "code",
   "execution_count": null,
   "id": "1e8a3c6d",
   "metadata": {},
   "outputs": [],
   "source": [
    "def RotationForest():\n",
    "    first = time.time()\n",
    "    train_X, test_X, train_Y, test_Y = get_values_trained()\n",
    "    train_Y, test_Y = encode_x_y(train_Y, test_Y)\n",
    "\n",
    "    rtf = RotationForestClassifier(n_estimators = 30, n_features_per_subset = 8)\n",
    "    rtf.fit(train_X, train_Y)\n",
    "    pred_Y = rtf.predict(test_X)\n",
    "\n",
    "    confusion = confusion_matrix(test_Y, pred_Y)\n",
    "    calculation_var(confusion, first) #PRINT SENSITIVITY, SPECIFICITY, TIME"
   ]
  },
  {
   "cell_type": "code",
   "execution_count": null,
   "id": "42f46b86",
   "metadata": {},
   "outputs": [],
   "source": [
    "def encode_x_y(train_Y, test_Y):\n",
    "    #Encode to an equal type (needed int/float) before treating the data\n",
    "    label = LabelEncoder()\n",
    "    train_Y = label.fit_transform(train_Y)\n",
    "\n",
    "    #for column_name in range(230):\n",
    "    #    train_X[:,column_name] = label.fit_transform(train_X[:,column_name].astype(str))\n",
    "    test_Y = label.fit_transform(test_Y)\n",
    "    #for column_name in range(230):\n",
    "    #    test_X[:,column_name] = label.fit_transform(test_X[:,column_name].astype(str))\n",
    "\n",
    "    #-------CONVERT FROM ENCODE INFORMATION TO ORIGINAL ONE\n",
    "    keys = label.classes_\n",
    "    values = label.transform(label.classes_)\n",
    "    dictionary = dict(zip(keys, values))\n",
    "    #print(dictionary)\n",
    "\n",
    "    return train_Y, test_Y"
   ]
  },
  {
   "cell_type": "code",
   "execution_count": null,
   "id": "30fb999b",
   "metadata": {},
   "outputs": [],
   "source": [
    "def calculation_var(confusion, first):\n",
    "    #-------Calculation of SENSITIVITY AND SPECIFICITY\n",
    "    sensitivity = sens_spec(confusion)[0]/TOTAL\n",
    "    specificity = sens_spec(confusion)[1]/TOTAL\n",
    "\n",
    "    #-------Calculation of time executed\n",
    "    final = time.time()\n",
    "    time_executed = final - first\n",
    "\n",
    "    print(\"Sensitivity: \", sensitivity, \"\\nSpecificity: \", specificity)\n",
    "    print(\"\\nTime executed: \", time_executed)\n"
   ]
  },
  {
   "cell_type": "code",
   "execution_count": null,
   "id": "8dbb5429",
   "metadata": {},
   "outputs": [],
   "source": [
    "def confusion_matrix(test_Y, pred_Y):\n",
    "    #-------MULTICASE CONFUSION MATRIX\n",
    "    return multilabel_confusion_matrix(test_Y, pred_Y)"
   ]
  },
  {
   "cell_type": "code",
   "execution_count": null,
   "id": "6332534e",
   "metadata": {},
   "outputs": [],
   "source": [
    "def sens_spec(confusion):\n",
    "    total_sensitivity = 0\n",
    "    total_specificity = 0\n",
    "    for i in range(9):\n",
    "        tp_i = confusion[i][1][1] #true positive for each class\n",
    "        fn_i = confusion[i][1][0] # false negative for each class\n",
    "        tn_i = confusion[i][0][0] # true negative for each class\n",
    "        fp_i = confusion[i][0][1] # false positive for each class\n",
    "        sensitivity_i = tp_i / ( tp_i + fn_i)  #--------Calculate sensitivity of each class\n",
    "        total_sensitivity += switcher_clases(i)*sensitivity_i\n",
    "        specificity_i = tn_i / ( tn_i + fp_i)  #--------Calculate specificity of each class\n",
    "        total_specificity += switcher_clases(i)*specificity_i\n",
    "\n",
    "    return total_sensitivity, total_specificity"
   ]
  },
  {
   "cell_type": "code",
   "execution_count": null,
   "id": "7fa0667f",
   "metadata": {},
   "outputs": [],
   "source": [
    "def switcher_clases(i):\n",
    "    switch_class = {\n",
    "        0: ABI,\n",
    "        1: AFIB,\n",
    "        2: ATR,\n",
    "        3: NSR,\n",
    "        4: PAC,\n",
    "        5: PVC,\n",
    "        6: PACED,\n",
    "        7: VBI,\n",
    "        8: VTR,\n",
    "    }\n",
    "    return switch_class.get(i)"
   ]
  },
  {
   "cell_type": "code",
   "execution_count": null,
   "id": "d5edb634",
   "metadata": {},
   "outputs": [],
   "source": [
    "def get_values_trained():\n",
    "    hrv = pd.read_excel('DATA/AnalizaHRVRhythmDataset.xlsx')\n",
    "    hrv.replace(('yes', 'no'), (1, 0), inplace = True)\n",
    "    X = hrv.drop([\"signal_type\"], axis = 1).values\n",
    "    Y = hrv[\"signal_type\"].values\n",
    "    train_X, test_X, train_Y, test_Y = train_test_split(X,Y)\n",
    "\n",
    "    return train_X, test_X, train_Y, test_Y"
   ]
  }
 ],
 "metadata": {
  "kernelspec": {
   "display_name": "Python 3 (ipykernel)",
   "language": "python",
   "name": "python3"
  },
  "language_info": {
   "codemirror_mode": {
    "name": "ipython",
    "version": 3
   },
   "file_extension": ".py",
   "mimetype": "text/x-python",
   "name": "python",
   "nbconvert_exporter": "python",
   "pygments_lexer": "ipython3",
   "version": "3.8.10"
  }
 },
 "nbformat": 4,
 "nbformat_minor": 5
}
